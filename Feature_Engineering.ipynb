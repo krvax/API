{
  "nbformat": 4,
  "nbformat_minor": 0,
  "metadata": {
    "colab": {
      "provenance": [],
      "include_colab_link": true
    },
    "kernelspec": {
      "name": "python3",
      "display_name": "Python 3"
    },
    "language_info": {
      "name": "python"
    }
  },
  "cells": [
    {
      "cell_type": "markdown",
      "metadata": {
        "id": "view-in-github",
        "colab_type": "text"
      },
      "source": [
        "<a href=\"https://colab.research.google.com/github/krvax/API/blob/master/Feature_Engineering.ipynb\" target=\"_parent\"><img src=\"https://colab.research.google.com/assets/colab-badge.svg\" alt=\"Open In Colab\"/></a>"
      ]
    },
    {
      "cell_type": "markdown",
      "source": [
        "# Mutual Information"
      ],
      "metadata": {
        "id": "ob8JH12QTnLG"
      }
    },
    {
      "cell_type": "markdown",
      "source": [],
      "metadata": {
        "id": "6DHlTNxu0qg7"
      }
    },
    {
      "cell_type": "code",
      "execution_count": null,
      "metadata": {
        "id": "N3Okv9fwW8B2"
      },
      "outputs": [],
      "source": [
        "import matplotlib.pyplot as plt\n",
        "import numpy as np\n",
        "import pandas as pd\n",
        "import seaborn as sns"
      ]
    },
    {
      "cell_type": "code",
      "source": [
        "plt.style.use(\"seaborn-v0_8-whitegrid\")\n",
        "df = pd.read_csv(\"../content/autos.csv\")\n",
        "df.head()"
      ],
      "metadata": {
        "id": "SvVRLGK2XDbu"
      },
      "execution_count": null,
      "outputs": []
    },
    {
      "cell_type": "code",
      "source": [
        "df.dtypes"
      ],
      "metadata": {
        "id": "t2I62YdHdCla"
      },
      "execution_count": null,
      "outputs": []
    },
    {
      "cell_type": "code",
      "source": [
        "# Para que la herramienta de MI funcione bien, las características de texto (como la marca) se convierten a números usando una técnica\n",
        "# llamada \"label encoding\". Básicamente, se asigna un número diferente a cada categoría (ejemplo: \"alfa-romeo\" = 0, \"audi\" = 1, etc.).\n",
        "# Después de esto, todas las características discretas se representan con números enteros.\n",
        "\n",
        "\n",
        "X = df.copy()\n",
        "y = X.pop(\"price\")\n",
        "\n",
        "# Label encoding for categoricals\n",
        "for colname in X.select_dtypes(\"object\"):\n",
        "    X[colname], _ = X[colname].factorize()"
      ],
      "metadata": {
        "id": "0_77TmBuXIG6"
      },
      "execution_count": null,
      "outputs": []
    },
    {
      "cell_type": "code",
      "source": [
        "X.dtypes"
      ],
      "metadata": {
        "id": "O1PodrDx2Kyk"
      },
      "execution_count": null,
      "outputs": []
    },
    {
      "cell_type": "code",
      "source": [
        "discrete_features = X.dtypes == int"
      ],
      "metadata": {
        "id": "peXSzAsY2OBs"
      },
      "execution_count": null,
      "outputs": []
    },
    {
      "cell_type": "code",
      "source": [
        "print(discrete_features)"
      ],
      "metadata": {
        "id": "lNnd1F4CpS4o"
      },
      "execution_count": null,
      "outputs": []
    },
    {
      "cell_type": "code",
      "source": [
        "from sklearn.feature_selection import mutual_info_regression\n",
        "\n",
        "def make_mi_scores(X, y, discrete_features):\n",
        "    mi_scores = mutual_info_regression(X, y, discrete_features=discrete_features)\n",
        "    mi_scores = pd.Series(mi_scores, name=\"MI Scores\", index=X.columns)\n",
        "    mi_scores = mi_scores.sort_values(ascending=False)\n",
        "    return mi_scores\n",
        "\n",
        "mi_scores = make_mi_scores(X, y, discrete_features)\n",
        "mi_scores[::3]  # show a few features with their MI scores"
      ],
      "metadata": {
        "id": "Gb64vLG0XM8s"
      },
      "execution_count": null,
      "outputs": []
    },
    {
      "cell_type": "code",
      "source": [
        "def plot_mi_scores(scores):\n",
        "    scores = scores.sort_values(ascending=True)\n",
        "    width = np.arange(len(scores))\n",
        "    ticks = list(scores.index)\n",
        "    plt.barh(width, scores)\n",
        "    plt.yticks(width, ticks)\n",
        "    plt.title(\"Mutual Information Scores\")\n",
        "\n",
        "\n",
        "plt.figure(dpi=100, figsize=(8, 5))\n",
        "plot_mi_scores(mi_scores)"
      ],
      "metadata": {
        "id": "WIb5BZ3MXPYJ"
      },
      "execution_count": null,
      "outputs": []
    },
    {
      "cell_type": "code",
      "source": [
        "sns.relplot(x=\"curb_weight\", y=\"price\", data=df);"
      ],
      "metadata": {
        "id": "K5hYLabIXR76"
      },
      "execution_count": null,
      "outputs": []
    },
    {
      "cell_type": "code",
      "source": [
        "sns.lmplot(x=\"horsepower\", y=\"price\", hue=\"fuel_type\", data=df);"
      ],
      "metadata": {
        "id": "m25SMKMcXUko"
      },
      "execution_count": null,
      "outputs": []
    },
    {
      "cell_type": "markdown",
      "source": [
        "# Creating Features"
      ],
      "metadata": {
        "id": "efwyjRw_T15C"
      }
    },
    {
      "cell_type": "code",
      "source": [
        "df[\"stroke_ratio\"] = df.stroke / df.bore\n",
        "\n",
        "df[[\"stroke\", \"bore\", \"stroke_ratio\"]].head()"
      ],
      "metadata": {
        "id": "kJ5JB5V2VbDa"
      },
      "execution_count": null,
      "outputs": []
    },
    {
      "cell_type": "code",
      "source": [
        "df[\"displacement\"] = (\n",
        "    np.pi * ((0.5 * df.bore) ** 2) * df.stroke * df.num_of_cylinders\n",
        ")"
      ],
      "metadata": {
        "id": "2sHmFw-_VnNk"
      },
      "execution_count": null,
      "outputs": []
    },
    {
      "cell_type": "code",
      "source": [
        "df[\"make_and_style\"] = df[\"make\"] + \"_\" + df[\"body_style\"]\n",
        "df[[\"make\", \"body_style\", \"make_and_style\"]].head()"
      ],
      "metadata": {
        "id": "EI-cXd4XV5LF"
      },
      "execution_count": null,
      "outputs": []
    },
    {
      "cell_type": "markdown",
      "source": [
        "# Target Encoding"
      ],
      "metadata": {
        "id": "p5cM-ZeWV-IK"
      }
    },
    {
      "cell_type": "code",
      "source": [
        "df[\"make_encoded\"] = df.groupby(\"make\")[\"price\"].transform(\"mean\")\n",
        "\n",
        "df[[\"make\", \"price\", \"make_encoded\"]].head(10)"
      ],
      "metadata": {
        "id": "quYQipZaWRQu"
      },
      "execution_count": null,
      "outputs": []
    }
  ]
}